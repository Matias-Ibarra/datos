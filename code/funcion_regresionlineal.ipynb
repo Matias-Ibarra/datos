{
 "cells": [
  {
   "cell_type": "code",
   "execution_count": 3,
   "id": "aace51b7",
   "metadata": {},
   "outputs": [],
   "source": [
    "def reg_lineal_multiple(ruta, grafico = False):\n",
    "    #importamos librerias\n",
    "    import pandas as pd\n",
    "    import numpy as np\n",
    "    import seaborn as sns\n",
    "    import matplotlib.pyplot as plt\n",
    "    from sklearn.model_selection import train_test_split\n",
    "    import statsmodels.api as sm\n",
    "    from numpy.linalg import inv\n",
    "\n",
    "    df = pd.read_csv(ruta)\n",
    "    print(\"\\nEl dataset actual es:\\n\")\n",
    "    print(df.head(3))\n",
    "    term_dep = int(input(\"\\nIngrese el número de columna que sera el termino dependiente, \\nsiendo 0 la primer columna, 1 la segunda y asi sucesivamente: \"))\n",
    "    #asignar las variables x e y:\n",
    "    eliminar_columna = str(input(\"\\nDesea eliminar alguna columna? Ingrese SI o NO: \"))\n",
    "    eliminar_columna = eliminar_columna.lower()\n",
    "    if eliminar_columna == \"si\":\n",
    "        columna_eliminada = int(input(\"\\nIngrese número de columna a eliminar: \"))\n",
    "        y = df[df.columns[int(term_dep)]]\n",
    "        x = df.drop([df.columns[term_dep], df.columns[columna_eliminada]], axis=1)\n",
    "        print(\"\\nLas variables dependientes estaran dadas por las siguientes columnas: \\n\")\n",
    "        print(x.head(3))\n",
    "        eliminar_otra = str(input(\"\\nDesea eliminar otra columna? Ingrese SI o NO: \"))\n",
    "        eliminar_otra = eliminar_otra.lower()\n",
    "        while eliminar_otra == \"si\":\n",
    "            otra_columna_eliminada = int(input(\"\\nIngrese número de columna a eliminar: \"))\n",
    "            x = x.drop([x.columns[otra_columna_eliminada]], axis=1)\n",
    "            print(\"Las variables dependientes estaran dadas por las siguientes columnas: \\n\")\n",
    "            print(x.head(3))\n",
    "            eliminar_otra = str(input(\"\\nDesea eliminar otra columna? Ingrese SI o NO: \"))\n",
    "            eliminar_otra = eliminar_otra.lower()\n",
    "        \n",
    "        else:\n",
    "            pass\n",
    "        x_train, x_test, y_train, y_test = train_test_split(x, y, test_size=0.2, random_state=1, shuffle=True)       \n",
    "    else:\n",
    "        y = df[df.columns[int(term_dep)]]\n",
    "        x = df.drop([df.columns[term_dep]], axis=1)\n",
    "        x_train, x_test, y_train, y_test = train_test_split(x, y, test_size=0.2, random_state=1, shuffle=True)\n",
    "        \n",
    "    print(\"\\nCoeficientes de la regresión lineal para el dataset seleccionado:\\n\")\n",
    "    \n",
    "    #Obtención de los coeficientes de la regresión lineal:\n",
    "    x_train = sm.add_constant(x_train, prepend=True)\n",
    "    nmp=x_train.to_numpy()\n",
    "    nmp_traspuesta = nmp.transpose()\n",
    "    inversa = inv(nmp_traspuesta.dot(nmp))\n",
    "    y_nmp=y_train.to_numpy()\n",
    "    traspuestaxy = nmp_traspuesta.dot(y_nmp)\n",
    "    a = inversa.dot(traspuestaxy)\n",
    "    \n",
    "    for i in range(len(a)-1):\n",
    "        print(\"coeficiente \", i,\" : \", a[i])\n",
    "    #Grafico de la recta de la regresión lineal:    \n",
    "    if grafico:\n",
    "        x_test = sm.add_constant(x_test, prepend=True)\n",
    "        #Predecimos los valores de y para nuestra ecuación de la regresión:\n",
    "        y_predict = []\n",
    "        for i in range(len(x_test.index)):\n",
    "            valor = 0\n",
    "            for coef in range(len(x_test.columns)):\n",
    "                valor += a[coef]*x_test.iat[i, coef]\n",
    "            y_predict.append(valor)\n",
    "        y_predict\n",
    "        \n",
    "        plt.figure(figsize = (10,5))\n",
    "        plt.scatter(y_test, y_predict)\n",
    "        plt.plot(y_predict, y_predict, color='red')\n",
    "        plt.show()\n",
    "    else:\n",
    "        pass\n",
    "    \n",
    "    columns_names = x.columns.values\n",
    "    columns_names_list = list(columns_names)\n",
    "    preguntar_predecir = str(input(\"\\nDesea predecir su chance de ingreso? Ingrese SI o NO: \")).lower()\n",
    "    if preguntar_predecir == \"si\":\n",
    "        valor_prediccion = 0\n",
    "        valores = [1]\n",
    "        for nombrecolumna in columns_names_list:\n",
    "            agregar = float(input(f\"Ingrese un valor para {nombrecolumna}: \"))\n",
    "            valores.append(agregar)\n",
    "        for coef in range(len(valores)):\n",
    "            valor_prediccion += a[coef]*valores[coef]\n",
    "        print(\"\\nLa chance de ingresar a la universidad es:\", valor_prediccion, \"\\n\")\n",
    "    \n",
    "    print(\"\\nLa ecuación de la regresión lineal es:\\n\")\n",
    "    texto0 = \"y = {}\".format(round(a[0], 4))\n",
    "    print(texto0, end=\"\")\n",
    "    for i in range(1, len(a)):\n",
    "        texto = \" + {} x_{}\".format(round(a[i], 4), i)\n",
    "        print(texto, end =\"\")"
   ]
  },
  {
   "cell_type": "code",
   "execution_count": 4,
   "id": "d2aae7fe",
   "metadata": {},
   "outputs": [
    {
     "name": "stdout",
     "output_type": "stream",
     "text": [
      "Ingrese la ruta del dataset: C:\\Users\\matia\\OneDrive\\Escritorio\\Curso_The_Corner\\jamboree\\jamboree_dataset.csv\n",
      "\n",
      "El dataset actual es:\n",
      "\n",
      "   Serial No.  GRE Score  TOEFL Score  University Rating  SOP  LOR   CGPA  \\\n",
      "0           1        337          118                  4  4.5   4.5  9.65   \n",
      "1           2        324          107                  4  4.0   4.5  8.87   \n",
      "2           3        316          104                  3  3.0   3.5  8.00   \n",
      "\n",
      "   Research  Chance of Admit   \n",
      "0         1              0.92  \n",
      "1         1              0.76  \n",
      "2         1              0.72  \n",
      "\n",
      "Ingrese el número de columna que sera el termino dependiente, \n",
      "siendo 0 la primer columna, 1 la segunda y asi sucesivamente: 8\n",
      "\n",
      "Desea eliminar alguna columna? Ingrese SI o NO: si\n",
      "\n",
      "Ingrese número de columna a eliminar: 0\n",
      "\n",
      "Las variables dependientes estaran dadas por las siguientes columnas: \n",
      "\n",
      "   GRE Score  TOEFL Score  University Rating  SOP  LOR   CGPA  Research\n",
      "0        337          118                  4  4.5   4.5  9.65         1\n",
      "1        324          107                  4  4.0   4.5  8.87         1\n",
      "2        316          104                  3  3.0   3.5  8.00         1\n",
      "\n",
      "Desea eliminar otra columna? Ingrese SI o NO: no\n",
      "\n",
      "Coeficientes de la regresión lineal para el dataset seleccionado:\n",
      "\n",
      "coeficiente  0  :  -1.2887254963500254\n",
      "coeficiente  1  :  0.0018322441955369584\n",
      "coeficiente  2  :  0.0031739291858938756\n",
      "coeficiente  3  :  0.006128856863254484\n",
      "coeficiente  4  :  0.003005076625806513\n",
      "coeficiente  5  :  0.0144268057407837\n",
      "coeficiente  6  :  0.11670429173142338\n"
     ]
    },
    {
     "name": "stderr",
     "output_type": "stream",
     "text": [
      "C:\\Users\\matia\\anaconda3\\lib\\site-packages\\statsmodels\\tsa\\tsatools.py:142: FutureWarning: In a future version of pandas all arguments of concat except for the argument 'objs' will be keyword-only\n",
      "  x = pd.concat(x[::order], 1)\n"
     ]
    },
    {
     "data": {
      "image/png": "[encoded data removed]",
      "text/plain": [
       "<Figure size 720x360 with 1 Axes>"
      ]
     },
     "metadata": {
      "needs_background": "light"
     },
     "output_type": "display_data"
    },
    {
     "name": "stdout",
     "output_type": "stream",
     "text": [
      "\n",
      "Desea predecir su chance de ingreso? Ingrese SI o NO: no\n",
      "\n",
      "La ecuación de la regresión lineal es:\n",
      "\n",
      "y = -1.2887 + 0.0018 x_1 + 0.0032 x_2 + 0.0061 x_3 + 0.003 x_4 + 0.0144 x_5 + 0.1167 x_6 + 0.0199 x_7"
     ]
    }
   ],
   "source": [
    "ruta = str(input(\"Ingrese la ruta del dataset: \"))\n",
    "\n",
    "reg_lineal_multiple(ruta, True)"
   ]
  },
  {
   "cell_type": "code",
   "execution_count": null,
   "id": "d731908d",
   "metadata": {},
   "outputs": [],
   "source": []
  }
 ],
 "metadata": {
  "kernelspec": {
   "display_name": "Python 3 (ipykernel)",
   "language": "python",
   "name": "python3"
  },
  "language_info": {
   "codemirror_mode": {
    "name": "ipython",
    "version": 3
   },
   "file_extension": ".py",
   "mimetype": "text/x-python",
   "name": "python",
   "nbconvert_exporter": "python",
   "pygments_lexer": "ipython3",
   "version": "3.9.7"
  }
 },
 "nbformat": 4,
 "nbformat_minor": 5
}
